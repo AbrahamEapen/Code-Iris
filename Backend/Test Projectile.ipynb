{
 "cells": [
  {
   "cell_type": "code",
   "execution_count": 1,
   "metadata": {
    "collapsed": true
   },
   "outputs": [],
   "source": [
    "# x = v_x * t + x_0 # \n",
    "# y = 0.5(g * (t**2)) + v_y0 * t + y_0 # \n",
    "# v_y = v_y0 + g* t # \n",
    "# v_y ** 2 = 2*g*y + v_y0 ** 2 # "
   ]
  },
  {
   "cell_type": "code",
   "execution_count": 2,
   "metadata": {},
   "outputs": [
    {
     "name": "stdout",
     "output_type": "stream",
     "text": [
      "What was the time in seconds: 9\n",
      "How far was the projectile launched horizontally in feet: 9\n",
      "What was the launch angle in degrees: 9\n"
     ]
    }
   ],
   "source": [
    "# Input is time, x-range, launch angle, starting coordindates of launch (defined as 0,0)\n",
    "time = float(input(\"What was the time in seconds: \"))\n",
    "x_range = float(input(\"How far was the projectile launched horizontally in feet: \"))\n",
    "launch_angle = float(input(\"What was the launch angle in degrees: \"))"
   ]
  },
  {
   "cell_type": "code",
   "execution_count": 3,
   "metadata": {
    "collapsed": true
   },
   "outputs": [],
   "source": [
    "x_o, y_o = 0, 0\n",
    "gravity = -32.2\n",
    "v_y = 0"
   ]
  },
  {
   "cell_type": "code",
   "execution_count": 4,
   "metadata": {
    "collapsed": true
   },
   "outputs": [],
   "source": [
    "def convert_to_mph(value):\n",
    "    \"\"\"Converts velocity from m/s to mph.\"\"\"\n",
    "    return value * 3600 / 5280"
   ]
  },
  {
   "cell_type": "code",
   "execution_count": 5,
   "metadata": {},
   "outputs": [
    {
     "name": "stdout",
     "output_type": "stream",
     "text": [
      "\n",
      "The horizontal velocity is 0.6818181818181818 miles per hour\n"
     ]
    }
   ],
   "source": [
    "# Horizontal velocity in mph\n",
    "v_x = ((x_range - x_o)/time * 3600)/5280\n",
    "print (\"\\nThe horizontal velocity is {0:} miles per hour\".format(v_x))"
   ]
  },
  {
   "cell_type": "code",
   "execution_count": 19,
   "metadata": {},
   "outputs": [
    {
     "name": "stdout",
     "output_type": "stream",
     "text": [
      "The maximum height is 5.796 feet\n"
     ]
    }
   ],
   "source": [
    "# Maximum height in feet\n",
    "vy = 0\n",
    "v_yo = vy - gravity * (time/2)\n",
    "height = 0.5 * (gravity * ((time/2) ** 2)) + (v_yo * (time/2)) + 0\n",
    "print (\"The maximum height is {0:} feet\".format(height))"
   ]
  },
  {
   "cell_type": "code",
   "execution_count": 24,
   "metadata": {},
   "outputs": [
    {
     "name": "stdout",
     "output_type": "stream",
     "text": [
      "\n",
      "The horizontal velocity is 1.7045454545454546 miles per hour\n"
     ]
    }
   ],
   "source": [
    "# Horizontal velocity\n",
    "v_x = (x_range - x_o) / time\n",
    "v_x_mph = convert_to_mph(v_x)\n",
    "print(\"\\nThe horizontal velocity is {0:} miles per hour\".format(v_x_mph))"
   ]
  },
  {
   "cell_type": "code",
   "execution_count": null,
   "metadata": {
    "collapsed": true
   },
   "outputs": [],
   "source": [
    "# Vertical velocity\n",
    "v_y = (y_range - x_y) / time\n",
    "v_y_mph = convert_to_mph(v_x)\n",
    "print(\"\\nThe vertical velocity is {0:} miles per hour\".format(v_y_mph))"
   ]
  },
  {
   "cell_type": "code",
   "execution_count": null,
   "metadata": {
    "collapsed": true
   },
   "outputs": [],
   "source": []
  }
 ],
 "metadata": {
  "kernelspec": {
   "display_name": "Python [conda env:PythonData]",
   "language": "python",
   "name": "conda-env-PythonData-py"
  },
  "language_info": {
   "codemirror_mode": {
    "name": "ipython",
    "version": 3
   },
   "file_extension": ".py",
   "mimetype": "text/x-python",
   "name": "python",
   "nbconvert_exporter": "python",
   "pygments_lexer": "ipython3",
   "version": "3.6.1"
  }
 },
 "nbformat": 4,
 "nbformat_minor": 2
}
