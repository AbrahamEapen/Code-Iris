{
 "cells": [
  {
   "cell_type": "markdown",
   "metadata": {},
   "source": [
    "## TensorFlow Reinforcement Learning -- Trajectory of Projectile"
   ]
  },
  {
   "cell_type": "markdown",
   "metadata": {},
   "source": [
    "## R = (v2)(sin2)/g"
   ]
  },
  {
   "cell_type": "code",
   "execution_count": 1,
   "metadata": {
    "collapsed": true
   },
   "outputs": [],
   "source": [
    "# 1.1 Import Tensorflow and other libraries.\n",
    "#import random\n",
    "#import tensorflow as tf\n",
    "#import pandas as pd\n",
    "#import math\n",
    "\n",
    "#%matplotlib inline"
   ]
  },
  {
   "cell_type": "code",
   "execution_count": 2,
   "metadata": {
    "collapsed": true
   },
   "outputs": [],
   "source": [
    "# from math import sin, cos, radians\n",
    "# from matplotlib import pyplot as plt\n",
    "\n",
    "# class meteorite:\n",
    "# The body of Meteorite class is substituted here...\n",
    "# ... \n",
    "\n",
    "#def makeShoot(x0, y0, velocity, angle):\n",
    "#    \"\"\"\n",
    "#    Returns a tuple with sequential pairs of x and y coordinates\n",
    "#    \"\"\"\n",
    "#    Meteorite = Meteorite(x0, y0, velocity, angle)\n",
    "#    dt = 0.05 # time step\n",
    "#    t = 0 # inital time\n",
    "#    Meteorite.step(dt)\n",
    "#\n",
    "    ###### THE INTEGRATION ##########\n",
    "#    while meteorite.y >= 0;\n",
    "#        cannon.step(dt)\n",
    "#        R = [(v0^2)(sin2)]/(g)\n",
    "    ##################################\n",
    "\n",
    "#    return (cannon.xarr, cannon.yarr)\n",
    "\n",
    "# def main():\n",
    "#    x0 = 0\n",
    "#    y0 = 0\n",
    "#    velocity = 10\n",
    "#    x45, y45 = makeShoot(x0, y0, velocity, 45)\n",
    "#    x30, y45 = makeShoot(x0, y0, velocity, 30)\n",
    "#    x60, y60 = makeShoot(x0, y0, velocity, 60)\n",
    "#    plt.plot(x45, y45, 'bo-', x30, y30, 'ro-', x60, y60, 'ko-',\n",
    "#           [0, 12],[0,0],'k-' # ground)\n",
    "#    plt.legend(['45 deg shoot',''])\n",
    "#    plt.xlabel()\n",
    "#    plt.ylabel()\n",
    "#    plt.show()\n",
    "\n",
    "# if __name__ == '__main__':\n",
    "#    main()"
   ]
  },
  {
   "cell_type": "code",
   "execution_count": null,
   "metadata": {
    "collapsed": true
   },
   "outputs": [],
   "source": [
    "# "
   ]
  },
  {
   "cell_type": "code",
   "execution_count": null,
   "metadata": {
    "collapsed": true
   },
   "outputs": [],
   "source": [
    "#"
   ]
  },
  {
   "cell_type": "markdown",
   "metadata": {},
   "source": [
    "### Training the network"
   ]
  },
  {
   "cell_type": "code",
   "execution_count": 14,
   "metadata": {
    "collapsed": true
   },
   "outputs": [],
   "source": [
    "# Create lists to contain total rewards and steps per episode\n",
    "# v = []\n",
    "# a = []\n",
    "# with tf.Session() as sess:\n",
    "#    sess.run(init)\n",
    "#    for i in range():\n",
    "        #Rest enviroment and get first new observation\n",
    "#        s = env.reset()\n",
    "#        rAll = 0\n",
    "#        d = False\n",
    "#        j = 0\n",
    "#        while j < 99:\n",
    "#            j+=1"
   ]
  },
  {
   "cell_type": "code",
   "execution_count": null,
   "metadata": {
    "collapsed": true
   },
   "outputs": [],
   "source": []
  },
  {
   "cell_type": "code",
   "execution_count": null,
   "metadata": {
    "collapsed": true
   },
   "outputs": [],
   "source": []
  },
  {
   "cell_type": "code",
   "execution_count": null,
   "metadata": {
    "collapsed": true
   },
   "outputs": [],
   "source": []
  }
 ],
 "metadata": {
  "kernelspec": {
   "display_name": "Python [default]",
   "language": "python",
   "name": "python3"
  },
  "language_info": {
   "codemirror_mode": {
    "name": "ipython",
    "version": 3
   },
   "file_extension": ".py",
   "mimetype": "text/x-python",
   "name": "python",
   "nbconvert_exporter": "python",
   "pygments_lexer": "ipython3",
   "version": "3.6.1"
  }
 },
 "nbformat": 4,
 "nbformat_minor": 2
}
